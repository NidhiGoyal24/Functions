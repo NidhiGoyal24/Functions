{
  "nbformat": 4,
  "nbformat_minor": 0,
  "metadata": {
    "colab": {
      "provenance": []
    },
    "kernelspec": {
      "name": "python3",
      "display_name": "Python 3"
    },
    "language_info": {
      "name": "python"
    }
  },
  "cells": [
    {
      "cell_type": "markdown",
      "source": [
        "# **Functions**\n",
        "\n",
        "**1) What is differece between functions and method in Python ?**\n",
        "\n",
        "--> In Python, a function is a standalone block of code that can be called from anywhere in your program, while a method is a function specifically defined within a class, meaning it is associated with an object and operates on the data of that object; essentially, methods are functions that belong to a class and require an object instance to be called upon.\n",
        "\n",
        "**2) Explain the concept of function arguments and parameters in Python.**\n",
        "\n",
        "--> Function arguments are the values passed to the function when its called.\n",
        "\n",
        "while function parameters are variables that defines the inputs the function can accept.\n",
        "\n",
        "**3) What are different way to define and call a function in\n",
        "   Python.**\n",
        "\n",
        "--> Function can be defined using keyword \"def\" followed by function name, paranthesis for parameters and ends with colon.\n",
        "\n",
        "   function calling is done by simply typing function name, paranthesiswith necessary arguments inside them.\n",
        "\n",
        "**4) What is the Purpose of return statement in a Python\n",
        "  function.**\n",
        "\n",
        "--> The return statement in Python ends a function's execution and returns a value to the calling function.\n",
        "\n",
        "**5) What are iterators in Python and how do they differ from\n",
        "   iterables ?**\n",
        "\n",
        "--> An Iterable is basically an object that any user can iterate over. An Iterator is also an object that helps a user in iterating over another object (that is iterable).\n",
        "\n",
        "**6) Explain the concept of generators in Python and how they  \n",
        "   are defined.**\n",
        "\n",
        "--> Generators are a simple way to create iterators using functions and uses the yield keyword instead of returning values.\n",
        "\n",
        "   Python generator functions are a powerful tool for creating iterators.\n",
        "\n",
        "**7) What are advantages of using generators over regular        functions.**\n",
        "\n",
        "--> Since a generator yields its values one by one, it does not need to store all of the values in memory at once. This can be especially useful when working with large data sets, as it reduces the risk of running out of memory.\n",
        "\n",
        "**8) What is Lambda function in Python and when is it typically\n",
        "   used.**\n",
        "\n",
        "--> Lambda functions are small, anonymous functions defined using the lambda keyword.\n",
        "\n",
        "They are used for creating small, throwaway functions without the need to formally define a function using def.\n",
        "\n",
        "**9) Explain the purpose and usage of map() function in Python.**\n",
        "\n",
        "--> The map function applies a given function to all items in an input iterable (like a list) and returns an iterator with the results.\n",
        "\n",
        "Used to transform each item in an iterable by applying the specified function.\n",
        "\n",
        "**10) What is the difference between map(), reduce(), and filter\n",
        "  () functions in Python?**\n",
        "\n",
        "--> **MAP Function:**\n",
        " The map function applies a given function to all items in an input iterable (like a list) and returns an iterator with the results.\n",
        "\n",
        " Used to transform each item in an iterable by applying the specified function.\n",
        "\n",
        "Syntax:\n",
        "map(function, iterable)\n",
        "\n",
        "--> **REDUCE Function:**\n",
        "  The reduce function from the functools module applies a given function cumulatively to the items of a sequence, from left to right, to reduce the sequence to a single value.\n",
        "\n",
        "  It reduces an iterable to a single cumulative value by applying the function cumulatively.\n",
        "\n",
        "Syntax:\n",
        "from functools import reduce\n",
        "reduce(function, iterable)\n",
        "\n",
        "--> **FILTER Function:**\n",
        "   The filter function constructs an iterator from elements of an iterable for which a specified function returns True.\n",
        "\n",
        "   Used for filtering elements from an iterable based on a condition defined by the function.\n",
        "\n",
        "Syntax:\n",
        "filter(function, iterable)\n",
        "\n",
        "**11) Using pen and paper write the internal mechanism for sum\n",
        "  operation using reduce function on this given list :\n",
        "  [47,11,42,13]**"
      ],
      "metadata": {
        "id": "vv_fRDPHZgaF"
      }
    },
    {
      "cell_type": "markdown",
      "source": [
        "## **Practical Questions**"
      ],
      "metadata": {
        "id": "OndTsE03dNNZ"
      }
    },
    {
      "cell_type": "code",
      "execution_count": null,
      "metadata": {
        "id": "LFa1IYDzZahW",
        "colab": {
          "base_uri": "https://localhost:8080/"
        },
        "outputId": "c91b22c5-77e4-45ac-d988-60bf5833cff4"
      },
      "outputs": [
        {
          "output_type": "execute_result",
          "data": {
            "text/plain": [
              "30"
            ]
          },
          "metadata": {},
          "execution_count": 9
        }
      ],
      "source": [
        "# 1) Write a Python function that takes a list of numbers as input and returns the sum of all even numbers in\n",
        "#    the list.\n",
        "\n",
        "def sum_even_numbers(numbers):\n",
        "    sum = 0\n",
        "    for number in numbers:\n",
        "        if number % 2 == 0:\n",
        "            sum += number\n",
        "    return sum\n",
        "\n",
        "    #return sum([number for number in numbers if number % 2 == 0])\n",
        "\n",
        "sum_even_numbers([1, 2, 3, 4, 5, 6, 7, 8, 9, 10])"
      ]
    },
    {
      "cell_type": "code",
      "source": [
        "# 2) Create a Python function that accepts a string and returns the reverse of that string.\n",
        "\n",
        "def reverse_string(string):\n",
        "    reversed_string = string[::-1]\n",
        "    return reversed_string\n",
        "\n",
        "reverse_string(\"Hello\")"
      ],
      "metadata": {
        "id": "hbi1E7hHdaVL",
        "colab": {
          "base_uri": "https://localhost:8080/"
        },
        "collapsed": true,
        "outputId": "4d9ca995-69a1-4993-9e5f-0300566f7637"
      },
      "execution_count": null,
      "outputs": [
        {
          "output_type": "execute_result",
          "data": {
            "text/plain": [
              "'olleH'"
            ],
            "application/vnd.google.colaboratory.intrinsic+json": {
              "type": "string"
            }
          },
          "metadata": {},
          "execution_count": 2
        }
      ]
    },
    {
      "cell_type": "code",
      "source": [
        "# 3) Implement a Python function that takes a list of integers and returns a new list containing the squares of\n",
        "#    each number.\n",
        "\n",
        "def square_numbers(numbers):\n",
        "    squared_numbers = []\n",
        "    for number in numbers:\n",
        "        squared_numbers.append(number ** 2)\n",
        "    return squared_numbers\n",
        "\n",
        "square_numbers([1, 2, 3, 4, 5])"
      ],
      "metadata": {
        "id": "dXAeikkPdef9",
        "colab": {
          "base_uri": "https://localhost:8080/"
        },
        "outputId": "2e60ac92-7c1e-42a5-d777-3b67b876b33e"
      },
      "execution_count": null,
      "outputs": [
        {
          "output_type": "execute_result",
          "data": {
            "text/plain": [
              "[1, 4, 9, 16, 25]"
            ]
          },
          "metadata": {},
          "execution_count": 1
        }
      ]
    },
    {
      "cell_type": "code",
      "source": [
        "# 4) Write a Python function that checks if a given number is prime or not from 1 to 200.\n",
        "\n",
        "def is_prime(num):\n",
        "    if num <= 1:\n",
        "        return False\n",
        "    for i in range(2, int(num ** 0.5) + 1):\n",
        "        if num % i == 0:\n",
        "            return False\n",
        "    return True\n",
        "\n",
        "# Check prime numbers between 1 and 200\n",
        "prime_numbers = [num for num in range(1, 201) if is_prime(num)]\n",
        "\n",
        "print(prime_numbers)"
      ],
      "metadata": {
        "id": "7bKxR42zdnlU",
        "colab": {
          "base_uri": "https://localhost:8080/"
        },
        "outputId": "f79d9fbb-b7bc-4f1b-dc4b-ce2437f9442b"
      },
      "execution_count": null,
      "outputs": [
        {
          "output_type": "stream",
          "name": "stdout",
          "text": [
            "[2, 3, 5, 7, 11, 13, 17, 19, 23, 29, 31, 37, 41, 43, 47, 53, 59, 61, 67, 71, 73, 79, 83, 89, 97, 101, 103, 107, 109, 113, 127, 131, 137, 139, 149, 151, 157, 163, 167, 173, 179, 181, 191, 193, 197, 199]\n"
          ]
        }
      ]
    },
    {
      "cell_type": "code",
      "source": [
        "# 5) Create an iterator class in Python that generates the Fibonacci sequence up to a specified number of\n",
        "#    terms.\n",
        "\n",
        "def fib(n):\n",
        "  a = 0\n",
        "  b = 1\n",
        "  for i in range(n):\n",
        "    yield a\n",
        "    a,b = b, a+b\n",
        "\n",
        "f = fib(10)\n",
        "for i in f:\n",
        "  print(i)"
      ],
      "metadata": {
        "id": "Z_teRI7YdslY"
      },
      "execution_count": null,
      "outputs": []
    },
    {
      "cell_type": "code",
      "source": [
        "# 6) Write a generator function in Python that yields the powers of 2 up to a given exponent.\n",
        "\n",
        "def power_function(base, exp):  ## function defination\n",
        "  result = 1\n",
        "  for i in range(exp + 1):\n",
        "    yield result\n",
        "    result *= base\n",
        "\n",
        "base = int(input(\"Input the base number: \"))  ## input from user\n",
        "exponent = int(input(\"Input the exponent: \"))\n",
        "\n",
        "power_gen = power_function(base, exponent)   ## generator object\n",
        "\n",
        "print(f\"power of {base} upto exponent {exponent} is :\")\n",
        "for i in power_gen:\n",
        "  print(i, end = \" \")"
      ],
      "metadata": {
        "id": "1EVKM1xld0j8",
        "colab": {
          "base_uri": "https://localhost:8080/"
        },
        "outputId": "a78d98a7-88ea-4107-f305-6ba7fe21c25d"
      },
      "execution_count": null,
      "outputs": [
        {
          "output_type": "stream",
          "name": "stdout",
          "text": [
            "Input the base number: 2\n",
            "Input the exponent: 3\n",
            "power of 2 upto exponent 3 is :\n",
            "1 2 4 8 "
          ]
        }
      ]
    },
    {
      "cell_type": "code",
      "source": [
        "# 7)  Implement a generator function that reads a file line by line and yields each line as a string."
      ],
      "metadata": {
        "id": "VajclRlLd5X9"
      },
      "execution_count": null,
      "outputs": []
    },
    {
      "cell_type": "code",
      "source": [
        "# 8) Use a lambda function in Python to sort a list of tuples based on the second element of each tuple.\n",
        "\n",
        "tuples = [(1, 3), (3, 2), (2, 1)]\n",
        "sorted_tuples = sorted(tuples, key=lambda x: x[1])\n",
        "print(sorted_tuples)"
      ],
      "metadata": {
        "id": "rm_aWJT8d9Qf",
        "colab": {
          "base_uri": "https://localhost:8080/"
        },
        "outputId": "343d96e3-1b19-468b-8e3d-e91e23a03573"
      },
      "execution_count": null,
      "outputs": [
        {
          "output_type": "stream",
          "name": "stdout",
          "text": [
            "[(2, 1), (3, 2), (1, 3)]\n"
          ]
        }
      ]
    },
    {
      "cell_type": "code",
      "source": [
        "# 9)  Write a Python program that uses `map()` to convert a list of temperatures from Celsius to Fahrenheit.\n",
        "\n",
        "celsius_temperatures = [0, 10, 20, 30, 40]\n",
        "\n",
        "fahrenheit_temperatures = list(map(lambda celsius: (celsius * 9/5) + 32, celsius_temperatures))\n",
        "\n",
        "print(\"Celsius Temperatures:\", celsius_temperatures)\n",
        "print(\"Fahrenheit Temperatures:\", fahrenheit_temperatures)\n"
      ],
      "metadata": {
        "id": "K0Yvmmh8eB9u",
        "colab": {
          "base_uri": "https://localhost:8080/"
        },
        "outputId": "73aece75-a763-4279-f0c0-af19540bf826"
      },
      "execution_count": null,
      "outputs": [
        {
          "output_type": "stream",
          "name": "stdout",
          "text": [
            "Celsius Temperatures: [0, 10, 20, 30, 40]\n",
            "Fahrenheit Temperatures: [32.0, 50.0, 68.0, 86.0, 104.0]\n"
          ]
        }
      ]
    },
    {
      "cell_type": "code",
      "source": [
        "# 10) Create a Python program that uses `filter()` to remove all the vowels from a given string.\n",
        "\n",
        "a=list(\"sample\")\n",
        "def vowel(x):\n",
        "    v=('a','e','i','o','u')\n",
        "    return x in v\n",
        "\n",
        "b=list(filter(vowel,a))\n",
        "print(\"Vowels : \",b)\n",
        "print(\"No of Vowels : \",len(b))"
      ],
      "metadata": {
        "id": "dRqspIUBeGM7",
        "colab": {
          "base_uri": "https://localhost:8080/"
        },
        "outputId": "9ef564e1-b6f1-4a69-8a13-3ba6978fb463"
      },
      "execution_count": null,
      "outputs": [
        {
          "output_type": "stream",
          "name": "stdout",
          "text": [
            "Vowels :  ['a', 'e']\n",
            "No of Vowels :  2\n"
          ]
        }
      ]
    },
    {
      "cell_type": "code",
      "source": [
        "# 11)  Imagine an accounting routine used in a book shop. It works on a list with sublists, which look like this:\n",
        "\n",
        "# Order Number      Book Title and Author            Quantity      Price prt item\n",
        "\n",
        "#   34587         Learning Python, Mark Lutz             4             40.95\n",
        "#   98762         Programming Python, Mark Lutz          5             56.80\n",
        "#   77226         Head First Python, Paul Barry          3             32.95\n",
        "#   88112         Einführung in Python3, Bernd Klein     3             24.99\n",
        "\n",
        "\n",
        "# Write a Python program, which returns a list with 2-tuples. Each tuple consists of the order number and the\n",
        "# product of the price per item and the quantity. The product should be increased by 10,- € if the value of the\n",
        "# order is smaller than 100,00 €.\n",
        "\n",
        "# Write a Python program using lambda and map.\n",
        "\n",
        "# List of orders\n",
        "orders = [\n",
        "    [34587, \"Learning Python, Mark Lutz\", 4, 40.95],\n",
        "    [98762, \"Programming Python, Mark Lutz\", 5, 56.80],\n",
        "    [77226, \"Head First Python, Paul Barry\", 3, 32.95],\n",
        "    [88112, \"Einführung in Python3, Bernd Klein\", 3, 24.99]\n",
        "]\n",
        "\n",
        "# Using lambda and map to calculate the required 2-tuples\n",
        "result = list(map(lambda order: (order[0], (order[2] * order[3] + 10) if order[2] * order[3] < 100 else order[2] * order[3]), orders))\n",
        "\n",
        "# Output the result\n",
        "print(result)\n"
      ],
      "metadata": {
        "id": "lM2gEElAeOB4",
        "colab": {
          "base_uri": "https://localhost:8080/"
        },
        "outputId": "2255aff1-5273-46a4-ebb3-10d3ea4e4193"
      },
      "execution_count": null,
      "outputs": [
        {
          "output_type": "stream",
          "name": "stdout",
          "text": [
            "[(34587, 163.8), (98762, 284.0), (77226, 108.85000000000001), (88112, 84.97)]\n"
          ]
        }
      ]
    }
  ]
}